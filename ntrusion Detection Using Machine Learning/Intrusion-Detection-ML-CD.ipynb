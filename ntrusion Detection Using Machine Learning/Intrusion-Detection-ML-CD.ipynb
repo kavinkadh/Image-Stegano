{
 "cells": [
  {
   "cell_type": "code",
   "execution_count": 1,
   "metadata": {},
   "outputs": [],
   "source": [
    "import os"
   ]
  },
  {
   "cell_type": "code",
   "execution_count": 2,
   "metadata": {},
   "outputs": [],
   "source": [
    "import pandas as pd"
   ]
  },
  {
   "cell_type": "code",
   "execution_count": 3,
   "metadata": {},
   "outputs": [],
   "source": [
    "import numpy as np"
   ]
  },
  {
   "cell_type": "code",
   "execution_count": 4,
   "metadata": {},
   "outputs": [],
   "source": [
    "import matplotlib.pyplot as plt\n",
    "%matplotlib inline"
   ]
  },
  {
   "cell_type": "code",
   "execution_count": 5,
   "metadata": {},
   "outputs": [],
   "source": [
    "from sklearn.preprocessing import StandardScaler"
   ]
  },
  {
   "cell_type": "code",
   "execution_count": 6,
   "metadata": {},
   "outputs": [],
   "source": [
    "from mpl_toolkits.mplot3d import Axes3D"
   ]
  },
  {
   "cell_type": "code",
   "execution_count": 7,
   "metadata": {},
   "outputs": [],
   "source": [
    "from sklearn.model_selection import train_test_split"
   ]
  },
  {
   "cell_type": "code",
   "execution_count": 10,
   "metadata": {},
   "outputs": [],
   "source": [
    "import tensorflow as tf"
   ]
  },
  {
   "cell_type": "code",
   "execution_count": 11,
   "metadata": {},
   "outputs": [],
   "source": [
    "from tensorflow.keras.layers import Input,Dropout,Dense"
   ]
  },
  {
   "cell_type": "code",
   "execution_count": 12,
   "metadata": {},
   "outputs": [],
   "source": [
    "from tensorflow.keras.models import Model"
   ]
  },
  {
   "cell_type": "code",
   "execution_count": 13,
   "metadata": {},
   "outputs": [],
   "source": [
    "from tensorflow.keras import regularizers"
   ]
  },
  {
   "cell_type": "code",
   "execution_count": 18,
   "metadata": {},
   "outputs": [],
   "source": [
    "from tensorflow.keras.utils import get_file"
   ]
  },
  {
   "cell_type": "code",
   "execution_count": 19,
   "metadata": {},
   "outputs": [],
   "source": [
    "from sklearn import metrics"
   ]
  },
  {
   "cell_type": "code",
   "execution_count": 20,
   "metadata": {},
   "outputs": [],
   "source": [
    "from sklearn.svm import SVC"
   ]
  },
  {
   "cell_type": "code",
   "execution_count": 21,
   "metadata": {},
   "outputs": [],
   "source": [
    "from sklearn.naive_bayes import BernoulliNB "
   ]
  },
  {
   "cell_type": "code",
   "execution_count": 22,
   "metadata": {},
   "outputs": [],
   "source": [
    "from sklearn import tree"
   ]
  },
  {
   "cell_type": "code",
   "execution_count": 23,
   "metadata": {},
   "outputs": [],
   "source": [
    "from sklearn.model_selection import cross_val_score"
   ]
  },
  {
   "cell_type": "code",
   "execution_count": 24,
   "metadata": {},
   "outputs": [],
   "source": [
    "from sklearn.neighbors import KNeighborsClassifier"
   ]
  },
  {
   "cell_type": "code",
   "execution_count": 25,
   "metadata": {},
   "outputs": [],
   "source": [
    "from sklearn.linear_model import LogisticRegression"
   ]
  },
  {
   "cell_type": "code",
   "execution_count": 26,
   "metadata": {},
   "outputs": [],
   "source": [
    "from sklearn.feature_selection import RFE"
   ]
  },
  {
   "cell_type": "code",
   "execution_count": 27,
   "metadata": {},
   "outputs": [],
   "source": [
    "import itertools"
   ]
  },
  {
   "cell_type": "code",
   "execution_count": 28,
   "metadata": {},
   "outputs": [],
   "source": [
    "from sklearn.ensemble import RandomForestClassifier"
   ]
  },
  {
   "cell_type": "code",
   "execution_count": 29,
   "metadata": {},
   "outputs": [],
   "source": [
    "from sklearn.preprocessing import OneHotEncoder "
   ]
  },
  {
   "cell_type": "code",
   "execution_count": 30,
   "metadata": {},
   "outputs": [],
   "source": [
    "from sklearn.preprocessing import StandardScaler"
   ]
  },
  {
   "cell_type": "code",
   "execution_count": 31,
   "metadata": {},
   "outputs": [],
   "source": [
    "pd.set_option('display.max_columns', None)\n",
    "pd.set_option('display.max_rows', None)\n",
    "nRowsRead = None "
   ]
  },
  {
   "cell_type": "code",
   "execution_count": 32,
   "metadata": {},
   "outputs": [],
   "source": [
    "nrows=20000"
   ]
  },
  {
   "cell_type": "code",
   "execution_count": 33,
   "metadata": {},
   "outputs": [],
   "source": [
    "df1 = pd.read_csv(\"Dataset/Friday-WorkingHours-Afternoon-DDos.pcap_ISCX.csv\", nrows=nrows)"
   ]
  },
  {
   "cell_type": "code",
   "execution_count": 34,
   "metadata": {},
   "outputs": [],
   "source": [
    "df2=pd.read_csv(\"Dataset/Friday-WorkingHours-Afternoon-PortScan.pcap_ISCX.csv\", nrows=nrows)"
   ]
  },
  {
   "cell_type": "code",
   "execution_count": 35,
   "metadata": {},
   "outputs": [],
   "source": [
    "df3=pd.read_csv(\"Dataset/Friday-WorkingHours-Morning.pcap_ISCX.csv\", nrows=nrows)"
   ]
  },
  {
   "cell_type": "code",
   "execution_count": 36,
   "metadata": {},
   "outputs": [],
   "source": [
    "df4=pd.read_csv(\"Dataset/Monday-WorkingHours.pcap_ISCX.csv\", nrows=nrows)"
   ]
  },
  {
   "cell_type": "code",
   "execution_count": 37,
   "metadata": {},
   "outputs": [],
   "source": [
    "df5=pd.read_csv(\"Dataset/Thursday-WorkingHours-Afternoon-Infilteration.pcap_ISCX.csv\", nrows=nrows)"
   ]
  },
  {
   "cell_type": "code",
   "execution_count": 38,
   "metadata": {},
   "outputs": [],
   "source": [
    "df6=pd.read_csv(\"Dataset/Thursday-WorkingHours-Morning-WebAttacks.pcap_ISCX.csv\", nrows=nrows)"
   ]
  },
  {
   "cell_type": "code",
   "execution_count": 39,
   "metadata": {},
   "outputs": [],
   "source": [
    "df7=pd.read_csv(\"Dataset/Tuesday-WorkingHours.pcap_ISCX.csv\", nrows=nrows)"
   ]
  },
  {
   "cell_type": "code",
   "execution_count": 40,
   "metadata": {},
   "outputs": [],
   "source": [
    "df8=pd.read_csv(\"Dataset/Wednesday-workingHours.pcap_ISCX.csv\", nrows=nrows)"
   ]
  },
  {
   "cell_type": "code",
   "execution_count": 41,
   "metadata": {},
   "outputs": [],
   "source": [
    "df = pd.concat([df1,df2, df3, df4,df5,df6,df7,df8])"
   ]
  },
  {
   "cell_type": "code",
   "execution_count": 42,
   "metadata": {},
   "outputs": [],
   "source": [
    "del df1,df2, df3, df4,df5,df6,df7,df8"
   ]
  },
  {
   "cell_type": "code",
   "execution_count": 43,
   "metadata": {
    "_kg_hide-input": false
   },
   "outputs": [
    {
     "name": "stdout",
     "output_type": "stream",
     "text": [
      "Rows 160000 Columns 79 \n"
     ]
    }
   ],
   "source": [
    "nRow, nCol = df.shape\n",
    "print(f'Rows {nRow} Columns {nCol} ')"
   ]
  },
  {
   "cell_type": "code",
   "execution_count": 44,
   "metadata": {},
   "outputs": [],
   "source": [
    "df = df.dropna()"
   ]
  },
  {
   "cell_type": "code",
   "execution_count": 45,
   "metadata": {},
   "outputs": [],
   "source": [
    "df.columns = df.columns.str.strip()"
   ]
  },
  {
   "cell_type": "code",
   "execution_count": 46,
   "metadata": {},
   "outputs": [
    {
     "name": "stdout",
     "output_type": "stream",
     "text": [
      "<class 'pandas.core.frame.DataFrame'>\n",
      "Int64Index: 159971 entries, 0 to 19999\n",
      "Data columns (total 79 columns):\n",
      " #   Column                       Non-Null Count   Dtype  \n",
      "---  ------                       --------------   -----  \n",
      " 0   Destination Port             159971 non-null  int64  \n",
      " 1   Flow Duration                159971 non-null  int64  \n",
      " 2   Total Fwd Packets            159971 non-null  int64  \n",
      " 3   Total Backward Packets       159971 non-null  int64  \n",
      " 4   Total Length of Fwd Packets  159971 non-null  int64  \n",
      " 5   Total Length of Bwd Packets  159971 non-null  int64  \n",
      " 6   Fwd Packet Length Max        159971 non-null  int64  \n",
      " 7   Fwd Packet Length Min        159971 non-null  int64  \n",
      " 8   Fwd Packet Length Mean       159971 non-null  float64\n",
      " 9   Fwd Packet Length Std        159971 non-null  float64\n",
      " 10  Bwd Packet Length Max        159971 non-null  int64  \n",
      " 11  Bwd Packet Length Min        159971 non-null  int64  \n",
      " 12  Bwd Packet Length Mean       159971 non-null  float64\n",
      " 13  Bwd Packet Length Std        159971 non-null  float64\n",
      " 14  Flow Bytes/s                 159971 non-null  float64\n",
      " 15  Flow Packets/s               159971 non-null  float64\n",
      " 16  Flow IAT Mean                159971 non-null  float64\n",
      " 17  Flow IAT Std                 159971 non-null  float64\n",
      " 18  Flow IAT Max                 159971 non-null  int64  \n",
      " 19  Flow IAT Min                 159971 non-null  int64  \n",
      " 20  Fwd IAT Total                159971 non-null  int64  \n",
      " 21  Fwd IAT Mean                 159971 non-null  float64\n",
      " 22  Fwd IAT Std                  159971 non-null  float64\n",
      " 23  Fwd IAT Max                  159971 non-null  int64  \n",
      " 24  Fwd IAT Min                  159971 non-null  int64  \n",
      " 25  Bwd IAT Total                159971 non-null  int64  \n",
      " 26  Bwd IAT Mean                 159971 non-null  float64\n",
      " 27  Bwd IAT Std                  159971 non-null  float64\n",
      " 28  Bwd IAT Max                  159971 non-null  int64  \n",
      " 29  Bwd IAT Min                  159971 non-null  int64  \n",
      " 30  Fwd PSH Flags                159971 non-null  int64  \n",
      " 31  Bwd PSH Flags                159971 non-null  int64  \n",
      " 32  Fwd URG Flags                159971 non-null  int64  \n",
      " 33  Bwd URG Flags                159971 non-null  int64  \n",
      " 34  Fwd Header Length            159971 non-null  int64  \n",
      " 35  Bwd Header Length            159971 non-null  int64  \n",
      " 36  Fwd Packets/s                159971 non-null  float64\n",
      " 37  Bwd Packets/s                159971 non-null  float64\n",
      " 38  Min Packet Length            159971 non-null  int64  \n",
      " 39  Max Packet Length            159971 non-null  int64  \n",
      " 40  Packet Length Mean           159971 non-null  float64\n",
      " 41  Packet Length Std            159971 non-null  float64\n",
      " 42  Packet Length Variance       159971 non-null  float64\n",
      " 43  FIN Flag Count               159971 non-null  int64  \n",
      " 44  SYN Flag Count               159971 non-null  int64  \n",
      " 45  RST Flag Count               159971 non-null  int64  \n",
      " 46  PSH Flag Count               159971 non-null  int64  \n",
      " 47  ACK Flag Count               159971 non-null  int64  \n",
      " 48  URG Flag Count               159971 non-null  int64  \n",
      " 49  CWE Flag Count               159971 non-null  int64  \n",
      " 50  ECE Flag Count               159971 non-null  int64  \n",
      " 51  Down/Up Ratio                159971 non-null  int64  \n",
      " 52  Average Packet Size          159971 non-null  float64\n",
      " 53  Avg Fwd Segment Size         159971 non-null  float64\n",
      " 54  Avg Bwd Segment Size         159971 non-null  float64\n",
      " 55  Fwd Header Length.1          159971 non-null  int64  \n",
      " 56  Fwd Avg Bytes/Bulk           159971 non-null  int64  \n",
      " 57  Fwd Avg Packets/Bulk         159971 non-null  int64  \n",
      " 58  Fwd Avg Bulk Rate            159971 non-null  int64  \n",
      " 59  Bwd Avg Bytes/Bulk           159971 non-null  int64  \n",
      " 60  Bwd Avg Packets/Bulk         159971 non-null  int64  \n",
      " 61  Bwd Avg Bulk Rate            159971 non-null  int64  \n",
      " 62  Subflow Fwd Packets          159971 non-null  int64  \n",
      " 63  Subflow Fwd Bytes            159971 non-null  int64  \n",
      " 64  Subflow Bwd Packets          159971 non-null  int64  \n",
      " 65  Subflow Bwd Bytes            159971 non-null  int64  \n",
      " 66  Init_Win_bytes_forward       159971 non-null  int64  \n",
      " 67  Init_Win_bytes_backward      159971 non-null  int64  \n",
      " 68  act_data_pkt_fwd             159971 non-null  int64  \n",
      " 69  min_seg_size_forward         159971 non-null  int64  \n",
      " 70  Active Mean                  159971 non-null  float64\n",
      " 71  Active Std                   159971 non-null  float64\n",
      " 72  Active Max                   159971 non-null  int64  \n",
      " 73  Active Min                   159971 non-null  int64  \n",
      " 74  Idle Mean                    159971 non-null  float64\n",
      " 75  Idle Std                     159971 non-null  float64\n",
      " 76  Idle Max                     159971 non-null  int64  \n",
      " 77  Idle Min                     159971 non-null  int64  \n",
      " 78  Label                        159971 non-null  object \n",
      "dtypes: float64(24), int64(54), object(1)\n",
      "memory usage: 97.6+ MB\n"
     ]
    }
   ],
   "source": [
    "df.info()"
   ]
  },
  {
   "cell_type": "code",
   "execution_count": 47,
   "metadata": {},
   "outputs": [],
   "source": [
    "df = df[[\"Destination Port\", \"Flow Duration\", \"Total Fwd Packets\", 'Total Backward Packets', 'Total Length of Fwd Packets', 'Total Length of Bwd Packets', 'Subflow Fwd Packets','Subflow Fwd Bytes','Subflow Bwd Packets', 'Subflow Bwd Bytes','Init_Win_bytes_backward','act_data_pkt_fwd','min_seg_size_forward',\"Label\"]]"
   ]
  },
  {
   "cell_type": "code",
   "execution_count": 48,
   "metadata": {
    "_kg_hide-input": false
   },
   "outputs": [
    {
     "data": {
      "text/html": [
       "<div>\n",
       "<style scoped>\n",
       "    .dataframe tbody tr th:only-of-type {\n",
       "        vertical-align: middle;\n",
       "    }\n",
       "\n",
       "    .dataframe tbody tr th {\n",
       "        vertical-align: top;\n",
       "    }\n",
       "\n",
       "    .dataframe thead th {\n",
       "        text-align: right;\n",
       "    }\n",
       "</style>\n",
       "<table border=\"1\" class=\"dataframe\">\n",
       "  <thead>\n",
       "    <tr style=\"text-align: right;\">\n",
       "      <th></th>\n",
       "      <th>Destination Port</th>\n",
       "      <th>Flow Duration</th>\n",
       "      <th>Total Fwd Packets</th>\n",
       "      <th>Total Backward Packets</th>\n",
       "      <th>Total Length of Fwd Packets</th>\n",
       "      <th>Total Length of Bwd Packets</th>\n",
       "      <th>Subflow Fwd Packets</th>\n",
       "      <th>Subflow Fwd Bytes</th>\n",
       "      <th>Subflow Bwd Packets</th>\n",
       "      <th>Subflow Bwd Bytes</th>\n",
       "      <th>Init_Win_bytes_backward</th>\n",
       "      <th>act_data_pkt_fwd</th>\n",
       "      <th>min_seg_size_forward</th>\n",
       "      <th>Label</th>\n",
       "    </tr>\n",
       "  </thead>\n",
       "  <tbody>\n",
       "    <tr>\n",
       "      <th>0</th>\n",
       "      <td>54865</td>\n",
       "      <td>3</td>\n",
       "      <td>2</td>\n",
       "      <td>0</td>\n",
       "      <td>12</td>\n",
       "      <td>0</td>\n",
       "      <td>2</td>\n",
       "      <td>12</td>\n",
       "      <td>0</td>\n",
       "      <td>0</td>\n",
       "      <td>-1</td>\n",
       "      <td>1</td>\n",
       "      <td>20</td>\n",
       "      <td>BENIGN</td>\n",
       "    </tr>\n",
       "    <tr>\n",
       "      <th>1</th>\n",
       "      <td>55054</td>\n",
       "      <td>109</td>\n",
       "      <td>1</td>\n",
       "      <td>1</td>\n",
       "      <td>6</td>\n",
       "      <td>6</td>\n",
       "      <td>1</td>\n",
       "      <td>6</td>\n",
       "      <td>1</td>\n",
       "      <td>6</td>\n",
       "      <td>256</td>\n",
       "      <td>0</td>\n",
       "      <td>20</td>\n",
       "      <td>BENIGN</td>\n",
       "    </tr>\n",
       "    <tr>\n",
       "      <th>2</th>\n",
       "      <td>55055</td>\n",
       "      <td>52</td>\n",
       "      <td>1</td>\n",
       "      <td>1</td>\n",
       "      <td>6</td>\n",
       "      <td>6</td>\n",
       "      <td>1</td>\n",
       "      <td>6</td>\n",
       "      <td>1</td>\n",
       "      <td>6</td>\n",
       "      <td>256</td>\n",
       "      <td>0</td>\n",
       "      <td>20</td>\n",
       "      <td>BENIGN</td>\n",
       "    </tr>\n",
       "    <tr>\n",
       "      <th>3</th>\n",
       "      <td>46236</td>\n",
       "      <td>34</td>\n",
       "      <td>1</td>\n",
       "      <td>1</td>\n",
       "      <td>6</td>\n",
       "      <td>6</td>\n",
       "      <td>1</td>\n",
       "      <td>6</td>\n",
       "      <td>1</td>\n",
       "      <td>6</td>\n",
       "      <td>329</td>\n",
       "      <td>0</td>\n",
       "      <td>20</td>\n",
       "      <td>BENIGN</td>\n",
       "    </tr>\n",
       "    <tr>\n",
       "      <th>4</th>\n",
       "      <td>54863</td>\n",
       "      <td>3</td>\n",
       "      <td>2</td>\n",
       "      <td>0</td>\n",
       "      <td>12</td>\n",
       "      <td>0</td>\n",
       "      <td>2</td>\n",
       "      <td>12</td>\n",
       "      <td>0</td>\n",
       "      <td>0</td>\n",
       "      <td>-1</td>\n",
       "      <td>1</td>\n",
       "      <td>20</td>\n",
       "      <td>BENIGN</td>\n",
       "    </tr>\n",
       "  </tbody>\n",
       "</table>\n",
       "</div>"
      ],
      "text/plain": [
       "   Destination Port  Flow Duration  Total Fwd Packets  Total Backward Packets  \\\n",
       "0             54865              3                  2                       0   \n",
       "1             55054            109                  1                       1   \n",
       "2             55055             52                  1                       1   \n",
       "3             46236             34                  1                       1   \n",
       "4             54863              3                  2                       0   \n",
       "\n",
       "   Total Length of Fwd Packets  Total Length of Bwd Packets  \\\n",
       "0                           12                            0   \n",
       "1                            6                            6   \n",
       "2                            6                            6   \n",
       "3                            6                            6   \n",
       "4                           12                            0   \n",
       "\n",
       "   Subflow Fwd Packets  Subflow Fwd Bytes  Subflow Bwd Packets  \\\n",
       "0                    2                 12                    0   \n",
       "1                    1                  6                    1   \n",
       "2                    1                  6                    1   \n",
       "3                    1                  6                    1   \n",
       "4                    2                 12                    0   \n",
       "\n",
       "   Subflow Bwd Bytes  Init_Win_bytes_backward  act_data_pkt_fwd  \\\n",
       "0                  0                       -1                 1   \n",
       "1                  6                      256                 0   \n",
       "2                  6                      256                 0   \n",
       "3                  6                      329                 0   \n",
       "4                  0                       -1                 1   \n",
       "\n",
       "   min_seg_size_forward   Label  \n",
       "0                    20  BENIGN  \n",
       "1                    20  BENIGN  \n",
       "2                    20  BENIGN  \n",
       "3                    20  BENIGN  \n",
       "4                    20  BENIGN  "
      ]
     },
     "execution_count": 48,
     "metadata": {},
     "output_type": "execute_result"
    }
   ],
   "source": [
    "df.head()"
   ]
  },
  {
   "cell_type": "code",
   "execution_count": 52,
   "metadata": {},
   "outputs": [],
   "source": [
    "train, test=train_test_split(df,test_size=0.3, random_state=10)"
   ]
  },
  {
   "cell_type": "code",
   "execution_count": 53,
   "metadata": {},
   "outputs": [
    {
     "data": {
      "text/html": [
       "<div>\n",
       "<style scoped>\n",
       "    .dataframe tbody tr th:only-of-type {\n",
       "        vertical-align: middle;\n",
       "    }\n",
       "\n",
       "    .dataframe tbody tr th {\n",
       "        vertical-align: top;\n",
       "    }\n",
       "\n",
       "    .dataframe thead th {\n",
       "        text-align: right;\n",
       "    }\n",
       "</style>\n",
       "<table border=\"1\" class=\"dataframe\">\n",
       "  <thead>\n",
       "    <tr style=\"text-align: right;\">\n",
       "      <th></th>\n",
       "      <th>Destination Port</th>\n",
       "      <th>Flow Duration</th>\n",
       "      <th>Total Fwd Packets</th>\n",
       "      <th>Total Backward Packets</th>\n",
       "      <th>Total Length of Fwd Packets</th>\n",
       "      <th>Total Length of Bwd Packets</th>\n",
       "      <th>Subflow Fwd Packets</th>\n",
       "      <th>Subflow Fwd Bytes</th>\n",
       "      <th>Subflow Bwd Packets</th>\n",
       "      <th>Subflow Bwd Bytes</th>\n",
       "      <th>Init_Win_bytes_backward</th>\n",
       "      <th>act_data_pkt_fwd</th>\n",
       "      <th>min_seg_size_forward</th>\n",
       "    </tr>\n",
       "  </thead>\n",
       "  <tbody>\n",
       "    <tr>\n",
       "      <th>count</th>\n",
       "      <td>111979.000000</td>\n",
       "      <td>1.119790e+05</td>\n",
       "      <td>111979.000000</td>\n",
       "      <td>111979.000000</td>\n",
       "      <td>1.119790e+05</td>\n",
       "      <td>1.119790e+05</td>\n",
       "      <td>111979.000000</td>\n",
       "      <td>1.119790e+05</td>\n",
       "      <td>111979.000000</td>\n",
       "      <td>1.119790e+05</td>\n",
       "      <td>111979.000000</td>\n",
       "      <td>111979.000000</td>\n",
       "      <td>1.119790e+05</td>\n",
       "    </tr>\n",
       "    <tr>\n",
       "      <th>mean</th>\n",
       "      <td>6494.030282</td>\n",
       "      <td>1.622033e+07</td>\n",
       "      <td>55.430125</td>\n",
       "      <td>70.809393</td>\n",
       "      <td>9.831983e+02</td>\n",
       "      <td>1.479465e+05</td>\n",
       "      <td>55.430125</td>\n",
       "      <td>9.831983e+02</td>\n",
       "      <td>70.809393</td>\n",
       "      <td>1.479402e+05</td>\n",
       "      <td>2385.794470</td>\n",
       "      <td>40.695354</td>\n",
       "      <td>-2.739320e+04</td>\n",
       "    </tr>\n",
       "    <tr>\n",
       "      <th>std</th>\n",
       "      <td>16487.671739</td>\n",
       "      <td>3.474315e+07</td>\n",
       "      <td>2815.917355</td>\n",
       "      <td>3754.943312</td>\n",
       "      <td>1.628182e+04</td>\n",
       "      <td>8.378252e+06</td>\n",
       "      <td>2815.917355</td>\n",
       "      <td>1.628182e+04</td>\n",
       "      <td>3754.943312</td>\n",
       "      <td>8.378163e+06</td>\n",
       "      <td>9438.538412</td>\n",
       "      <td>2462.125431</td>\n",
       "      <td>3.314581e+06</td>\n",
       "    </tr>\n",
       "    <tr>\n",
       "      <th>min</th>\n",
       "      <td>0.000000</td>\n",
       "      <td>-1.000000e+00</td>\n",
       "      <td>1.000000</td>\n",
       "      <td>0.000000</td>\n",
       "      <td>0.000000e+00</td>\n",
       "      <td>0.000000e+00</td>\n",
       "      <td>1.000000</td>\n",
       "      <td>0.000000e+00</td>\n",
       "      <td>0.000000</td>\n",
       "      <td>0.000000e+00</td>\n",
       "      <td>-1.000000</td>\n",
       "      <td>0.000000</td>\n",
       "      <td>-5.368707e+08</td>\n",
       "    </tr>\n",
       "    <tr>\n",
       "      <th>25%</th>\n",
       "      <td>53.000000</td>\n",
       "      <td>2.210000e+02</td>\n",
       "      <td>2.000000</td>\n",
       "      <td>1.000000</td>\n",
       "      <td>3.700000e+01</td>\n",
       "      <td>6.000000e+00</td>\n",
       "      <td>2.000000</td>\n",
       "      <td>3.700000e+01</td>\n",
       "      <td>1.000000</td>\n",
       "      <td>6.000000e+00</td>\n",
       "      <td>-1.000000</td>\n",
       "      <td>0.000000</td>\n",
       "      <td>2.000000e+01</td>\n",
       "    </tr>\n",
       "    <tr>\n",
       "      <th>50%</th>\n",
       "      <td>80.000000</td>\n",
       "      <td>6.015300e+04</td>\n",
       "      <td>2.000000</td>\n",
       "      <td>2.000000</td>\n",
       "      <td>7.400000e+01</td>\n",
       "      <td>1.460000e+02</td>\n",
       "      <td>2.000000</td>\n",
       "      <td>7.400000e+01</td>\n",
       "      <td>2.000000</td>\n",
       "      <td>1.460000e+02</td>\n",
       "      <td>-1.000000</td>\n",
       "      <td>1.000000</td>\n",
       "      <td>2.000000e+01</td>\n",
       "    </tr>\n",
       "    <tr>\n",
       "      <th>75%</th>\n",
       "      <td>443.000000</td>\n",
       "      <td>5.526681e+06</td>\n",
       "      <td>7.000000</td>\n",
       "      <td>5.000000</td>\n",
       "      <td>4.210000e+02</td>\n",
       "      <td>7.360000e+02</td>\n",
       "      <td>7.000000</td>\n",
       "      <td>4.210000e+02</td>\n",
       "      <td>5.000000</td>\n",
       "      <td>7.360000e+02</td>\n",
       "      <td>245.000000</td>\n",
       "      <td>3.000000</td>\n",
       "      <td>3.200000e+01</td>\n",
       "    </tr>\n",
       "    <tr>\n",
       "      <th>max</th>\n",
       "      <td>64628.000000</td>\n",
       "      <td>1.200000e+08</td>\n",
       "      <td>219759.000000</td>\n",
       "      <td>291922.000000</td>\n",
       "      <td>1.323378e+06</td>\n",
       "      <td>6.554530e+08</td>\n",
       "      <td>219759.000000</td>\n",
       "      <td>1.323378e+06</td>\n",
       "      <td>291922.000000</td>\n",
       "      <td>6.554530e+08</td>\n",
       "      <td>65535.000000</td>\n",
       "      <td>213557.000000</td>\n",
       "      <td>6.000000e+01</td>\n",
       "    </tr>\n",
       "  </tbody>\n",
       "</table>\n",
       "</div>"
      ],
      "text/plain": [
       "       Destination Port  Flow Duration  Total Fwd Packets  \\\n",
       "count     111979.000000   1.119790e+05      111979.000000   \n",
       "mean        6494.030282   1.622033e+07          55.430125   \n",
       "std        16487.671739   3.474315e+07        2815.917355   \n",
       "min            0.000000  -1.000000e+00           1.000000   \n",
       "25%           53.000000   2.210000e+02           2.000000   \n",
       "50%           80.000000   6.015300e+04           2.000000   \n",
       "75%          443.000000   5.526681e+06           7.000000   \n",
       "max        64628.000000   1.200000e+08      219759.000000   \n",
       "\n",
       "       Total Backward Packets  Total Length of Fwd Packets  \\\n",
       "count           111979.000000                 1.119790e+05   \n",
       "mean                70.809393                 9.831983e+02   \n",
       "std               3754.943312                 1.628182e+04   \n",
       "min                  0.000000                 0.000000e+00   \n",
       "25%                  1.000000                 3.700000e+01   \n",
       "50%                  2.000000                 7.400000e+01   \n",
       "75%                  5.000000                 4.210000e+02   \n",
       "max             291922.000000                 1.323378e+06   \n",
       "\n",
       "       Total Length of Bwd Packets  Subflow Fwd Packets  Subflow Fwd Bytes  \\\n",
       "count                 1.119790e+05        111979.000000       1.119790e+05   \n",
       "mean                  1.479465e+05            55.430125       9.831983e+02   \n",
       "std                   8.378252e+06          2815.917355       1.628182e+04   \n",
       "min                   0.000000e+00             1.000000       0.000000e+00   \n",
       "25%                   6.000000e+00             2.000000       3.700000e+01   \n",
       "50%                   1.460000e+02             2.000000       7.400000e+01   \n",
       "75%                   7.360000e+02             7.000000       4.210000e+02   \n",
       "max                   6.554530e+08        219759.000000       1.323378e+06   \n",
       "\n",
       "       Subflow Bwd Packets  Subflow Bwd Bytes  Init_Win_bytes_backward  \\\n",
       "count        111979.000000       1.119790e+05            111979.000000   \n",
       "mean             70.809393       1.479402e+05              2385.794470   \n",
       "std            3754.943312       8.378163e+06              9438.538412   \n",
       "min               0.000000       0.000000e+00                -1.000000   \n",
       "25%               1.000000       6.000000e+00                -1.000000   \n",
       "50%               2.000000       1.460000e+02                -1.000000   \n",
       "75%               5.000000       7.360000e+02               245.000000   \n",
       "max          291922.000000       6.554530e+08             65535.000000   \n",
       "\n",
       "       act_data_pkt_fwd  min_seg_size_forward  \n",
       "count     111979.000000          1.119790e+05  \n",
       "mean          40.695354         -2.739320e+04  \n",
       "std         2462.125431          3.314581e+06  \n",
       "min            0.000000         -5.368707e+08  \n",
       "25%            0.000000          2.000000e+01  \n",
       "50%            1.000000          2.000000e+01  \n",
       "75%            3.000000          3.200000e+01  \n",
       "max       213557.000000          6.000000e+01  "
      ]
     },
     "execution_count": 53,
     "metadata": {},
     "output_type": "execute_result"
    }
   ],
   "source": [
    "train.describe()"
   ]
  },
  {
   "cell_type": "code",
   "execution_count": 54,
   "metadata": {},
   "outputs": [
    {
     "data": {
      "text/html": [
       "<div>\n",
       "<style scoped>\n",
       "    .dataframe tbody tr th:only-of-type {\n",
       "        vertical-align: middle;\n",
       "    }\n",
       "\n",
       "    .dataframe tbody tr th {\n",
       "        vertical-align: top;\n",
       "    }\n",
       "\n",
       "    .dataframe thead th {\n",
       "        text-align: right;\n",
       "    }\n",
       "</style>\n",
       "<table border=\"1\" class=\"dataframe\">\n",
       "  <thead>\n",
       "    <tr style=\"text-align: right;\">\n",
       "      <th></th>\n",
       "      <th>Destination Port</th>\n",
       "      <th>Flow Duration</th>\n",
       "      <th>Total Fwd Packets</th>\n",
       "      <th>Total Backward Packets</th>\n",
       "      <th>Total Length of Fwd Packets</th>\n",
       "      <th>Total Length of Bwd Packets</th>\n",
       "      <th>Subflow Fwd Packets</th>\n",
       "      <th>Subflow Fwd Bytes</th>\n",
       "      <th>Subflow Bwd Packets</th>\n",
       "      <th>Subflow Bwd Bytes</th>\n",
       "      <th>Init_Win_bytes_backward</th>\n",
       "      <th>act_data_pkt_fwd</th>\n",
       "      <th>min_seg_size_forward</th>\n",
       "    </tr>\n",
       "  </thead>\n",
       "  <tbody>\n",
       "    <tr>\n",
       "      <th>count</th>\n",
       "      <td>47992.000000</td>\n",
       "      <td>4.799200e+04</td>\n",
       "      <td>47992.000000</td>\n",
       "      <td>47992.000000</td>\n",
       "      <td>4.799200e+04</td>\n",
       "      <td>4.799200e+04</td>\n",
       "      <td>47992.000000</td>\n",
       "      <td>4.799200e+04</td>\n",
       "      <td>47992.000000</td>\n",
       "      <td>4.799200e+04</td>\n",
       "      <td>47992.000000</td>\n",
       "      <td>47992.000000</td>\n",
       "      <td>4.799200e+04</td>\n",
       "    </tr>\n",
       "    <tr>\n",
       "      <th>mean</th>\n",
       "      <td>6464.889752</td>\n",
       "      <td>1.596356e+07</td>\n",
       "      <td>47.776984</td>\n",
       "      <td>60.874354</td>\n",
       "      <td>9.051809e+02</td>\n",
       "      <td>1.239687e+05</td>\n",
       "      <td>47.776984</td>\n",
       "      <td>9.051809e+02</td>\n",
       "      <td>60.874354</td>\n",
       "      <td>1.239650e+05</td>\n",
       "      <td>2381.055863</td>\n",
       "      <td>37.336889</td>\n",
       "      <td>-2.864099e+04</td>\n",
       "    </tr>\n",
       "    <tr>\n",
       "      <th>std</th>\n",
       "      <td>16468.830277</td>\n",
       "      <td>3.453546e+07</td>\n",
       "      <td>2737.862647</td>\n",
       "      <td>3660.747689</td>\n",
       "      <td>1.582188e+04</td>\n",
       "      <td>8.053672e+06</td>\n",
       "      <td>2737.862647</td>\n",
       "      <td>1.582188e+04</td>\n",
       "      <td>3660.747689</td>\n",
       "      <td>8.053340e+06</td>\n",
       "      <td>9391.811512</td>\n",
       "      <td>2456.169322</td>\n",
       "      <td>2.733379e+06</td>\n",
       "    </tr>\n",
       "    <tr>\n",
       "      <th>min</th>\n",
       "      <td>0.000000</td>\n",
       "      <td>-1.000000e+00</td>\n",
       "      <td>1.000000</td>\n",
       "      <td>0.000000</td>\n",
       "      <td>0.000000e+00</td>\n",
       "      <td>0.000000e+00</td>\n",
       "      <td>1.000000</td>\n",
       "      <td>0.000000e+00</td>\n",
       "      <td>0.000000</td>\n",
       "      <td>0.000000e+00</td>\n",
       "      <td>-1.000000</td>\n",
       "      <td>0.000000</td>\n",
       "      <td>-5.368707e+08</td>\n",
       "    </tr>\n",
       "    <tr>\n",
       "      <th>25%</th>\n",
       "      <td>53.000000</td>\n",
       "      <td>2.230000e+02</td>\n",
       "      <td>2.000000</td>\n",
       "      <td>1.000000</td>\n",
       "      <td>3.700000e+01</td>\n",
       "      <td>6.000000e+00</td>\n",
       "      <td>2.000000</td>\n",
       "      <td>3.700000e+01</td>\n",
       "      <td>1.000000</td>\n",
       "      <td>6.000000e+00</td>\n",
       "      <td>-1.000000</td>\n",
       "      <td>0.000000</td>\n",
       "      <td>2.000000e+01</td>\n",
       "    </tr>\n",
       "    <tr>\n",
       "      <th>50%</th>\n",
       "      <td>80.000000</td>\n",
       "      <td>6.051650e+04</td>\n",
       "      <td>2.000000</td>\n",
       "      <td>2.000000</td>\n",
       "      <td>7.350000e+01</td>\n",
       "      <td>1.460000e+02</td>\n",
       "      <td>2.000000</td>\n",
       "      <td>7.350000e+01</td>\n",
       "      <td>2.000000</td>\n",
       "      <td>1.460000e+02</td>\n",
       "      <td>-1.000000</td>\n",
       "      <td>1.000000</td>\n",
       "      <td>2.000000e+01</td>\n",
       "    </tr>\n",
       "    <tr>\n",
       "      <th>75%</th>\n",
       "      <td>443.000000</td>\n",
       "      <td>5.465720e+06</td>\n",
       "      <td>7.000000</td>\n",
       "      <td>5.000000</td>\n",
       "      <td>4.230000e+02</td>\n",
       "      <td>6.900000e+02</td>\n",
       "      <td>7.000000</td>\n",
       "      <td>4.230000e+02</td>\n",
       "      <td>5.000000</td>\n",
       "      <td>6.900000e+02</td>\n",
       "      <td>246.000000</td>\n",
       "      <td>3.000000</td>\n",
       "      <td>3.200000e+01</td>\n",
       "    </tr>\n",
       "    <tr>\n",
       "      <th>max</th>\n",
       "      <td>64383.000000</td>\n",
       "      <td>1.200000e+08</td>\n",
       "      <td>218658.000000</td>\n",
       "      <td>291260.000000</td>\n",
       "      <td>1.286884e+06</td>\n",
       "      <td>6.410014e+08</td>\n",
       "      <td>218658.000000</td>\n",
       "      <td>1.286884e+06</td>\n",
       "      <td>291260.000000</td>\n",
       "      <td>6.410014e+08</td>\n",
       "      <td>65535.000000</td>\n",
       "      <td>207501.000000</td>\n",
       "      <td>6.000000e+01</td>\n",
       "    </tr>\n",
       "  </tbody>\n",
       "</table>\n",
       "</div>"
      ],
      "text/plain": [
       "       Destination Port  Flow Duration  Total Fwd Packets  \\\n",
       "count      47992.000000   4.799200e+04       47992.000000   \n",
       "mean        6464.889752   1.596356e+07          47.776984   \n",
       "std        16468.830277   3.453546e+07        2737.862647   \n",
       "min            0.000000  -1.000000e+00           1.000000   \n",
       "25%           53.000000   2.230000e+02           2.000000   \n",
       "50%           80.000000   6.051650e+04           2.000000   \n",
       "75%          443.000000   5.465720e+06           7.000000   \n",
       "max        64383.000000   1.200000e+08      218658.000000   \n",
       "\n",
       "       Total Backward Packets  Total Length of Fwd Packets  \\\n",
       "count            47992.000000                 4.799200e+04   \n",
       "mean                60.874354                 9.051809e+02   \n",
       "std               3660.747689                 1.582188e+04   \n",
       "min                  0.000000                 0.000000e+00   \n",
       "25%                  1.000000                 3.700000e+01   \n",
       "50%                  2.000000                 7.350000e+01   \n",
       "75%                  5.000000                 4.230000e+02   \n",
       "max             291260.000000                 1.286884e+06   \n",
       "\n",
       "       Total Length of Bwd Packets  Subflow Fwd Packets  Subflow Fwd Bytes  \\\n",
       "count                 4.799200e+04         47992.000000       4.799200e+04   \n",
       "mean                  1.239687e+05            47.776984       9.051809e+02   \n",
       "std                   8.053672e+06          2737.862647       1.582188e+04   \n",
       "min                   0.000000e+00             1.000000       0.000000e+00   \n",
       "25%                   6.000000e+00             2.000000       3.700000e+01   \n",
       "50%                   1.460000e+02             2.000000       7.350000e+01   \n",
       "75%                   6.900000e+02             7.000000       4.230000e+02   \n",
       "max                   6.410014e+08        218658.000000       1.286884e+06   \n",
       "\n",
       "       Subflow Bwd Packets  Subflow Bwd Bytes  Init_Win_bytes_backward  \\\n",
       "count         47992.000000       4.799200e+04             47992.000000   \n",
       "mean             60.874354       1.239650e+05              2381.055863   \n",
       "std            3660.747689       8.053340e+06              9391.811512   \n",
       "min               0.000000       0.000000e+00                -1.000000   \n",
       "25%               1.000000       6.000000e+00                -1.000000   \n",
       "50%               2.000000       1.460000e+02                -1.000000   \n",
       "75%               5.000000       6.900000e+02               246.000000   \n",
       "max          291260.000000       6.410014e+08             65535.000000   \n",
       "\n",
       "       act_data_pkt_fwd  min_seg_size_forward  \n",
       "count      47992.000000          4.799200e+04  \n",
       "mean          37.336889         -2.864099e+04  \n",
       "std         2456.169322          2.733379e+06  \n",
       "min            0.000000         -5.368707e+08  \n",
       "25%            0.000000          2.000000e+01  \n",
       "50%            1.000000          2.000000e+01  \n",
       "75%            3.000000          3.200000e+01  \n",
       "max       207501.000000          6.000000e+01  "
      ]
     },
     "execution_count": 54,
     "metadata": {},
     "output_type": "execute_result"
    }
   ],
   "source": [
    "test.describe()"
   ]
  },
  {
   "cell_type": "code",
   "execution_count": 55,
   "metadata": {},
   "outputs": [
    {
     "data": {
      "text/plain": [
       "BENIGN                      47261\n",
       "FTP-Patator                   368\n",
       "DDoS                          339\n",
       "Web Attack � Brute Force       21\n",
       "PortScan                        3\n",
       "Name: Label, dtype: int64"
      ]
     },
     "execution_count": 55,
     "metadata": {},
     "output_type": "execute_result"
    }
   ],
   "source": [
    "train['Label'].value_counts()\n",
    "test['Label'].value_counts()"
   ]
  },
  {
   "cell_type": "code",
   "execution_count": 56,
   "metadata": {},
   "outputs": [],
   "source": [
    "scaler = StandardScaler()"
   ]
  },
  {
   "cell_type": "code",
   "execution_count": 57,
   "metadata": {},
   "outputs": [],
   "source": [
    "cols = train.select_dtypes(include=['float64','int64']).columns\n",
    "sc_train = scaler.fit_transform(train.select_dtypes(include=['float64','int64']))\n",
    "sc_test = scaler.fit_transform(test.select_dtypes(include=['float64','int64']))"
   ]
  },
  {
   "cell_type": "code",
   "execution_count": 58,
   "metadata": {},
   "outputs": [],
   "source": [
    "sc_traindf = pd.DataFrame(sc_train, columns = cols)\n",
    "sc_testdf = pd.DataFrame(sc_test, columns = cols)"
   ]
  },
  {
   "cell_type": "code",
   "execution_count": 59,
   "metadata": {},
   "outputs": [],
   "source": [
    "onehotencoder = OneHotEncoder() "
   ]
  },
  {
   "cell_type": "code",
   "execution_count": 60,
   "metadata": {},
   "outputs": [],
   "source": [
    "trainDep = train['Label'].values.reshape(-1,1)\n",
    "trainDep = onehotencoder.fit_transform(trainDep).toarray()\n",
    "testDep = test['Label'].values.reshape(-1,1)\n",
    "testDep = onehotencoder.fit_transform(testDep).toarray()"
   ]
  },
  {
   "cell_type": "code",
   "execution_count": 61,
   "metadata": {},
   "outputs": [],
   "source": [
    "train_X=sc_traindf\n",
    "train_y=trainDep[:,0]"
   ]
  },
  {
   "cell_type": "code",
   "execution_count": 62,
   "metadata": {},
   "outputs": [],
   "source": [
    "test_X=sc_testdf\n",
    "test_y=testDep[:,0]"
   ]
  },
  {
   "cell_type": "code",
   "execution_count": 63,
   "metadata": {},
   "outputs": [],
   "source": [
    "rfc = RandomForestClassifier()"
   ]
  },
  {
   "cell_type": "code",
   "execution_count": 64,
   "metadata": {},
   "outputs": [
    {
     "data": {
      "text/html": [
       "<style>#sk-container-id-1 {color: black;background-color: white;}#sk-container-id-1 pre{padding: 0;}#sk-container-id-1 div.sk-toggleable {background-color: white;}#sk-container-id-1 label.sk-toggleable__label {cursor: pointer;display: block;width: 100%;margin-bottom: 0;padding: 0.3em;box-sizing: border-box;text-align: center;}#sk-container-id-1 label.sk-toggleable__label-arrow:before {content: \"▸\";float: left;margin-right: 0.25em;color: #696969;}#sk-container-id-1 label.sk-toggleable__label-arrow:hover:before {color: black;}#sk-container-id-1 div.sk-estimator:hover label.sk-toggleable__label-arrow:before {color: black;}#sk-container-id-1 div.sk-toggleable__content {max-height: 0;max-width: 0;overflow: hidden;text-align: left;background-color: #f0f8ff;}#sk-container-id-1 div.sk-toggleable__content pre {margin: 0.2em;color: black;border-radius: 0.25em;background-color: #f0f8ff;}#sk-container-id-1 input.sk-toggleable__control:checked~div.sk-toggleable__content {max-height: 200px;max-width: 100%;overflow: auto;}#sk-container-id-1 input.sk-toggleable__control:checked~label.sk-toggleable__label-arrow:before {content: \"▾\";}#sk-container-id-1 div.sk-estimator input.sk-toggleable__control:checked~label.sk-toggleable__label {background-color: #d4ebff;}#sk-container-id-1 div.sk-label input.sk-toggleable__control:checked~label.sk-toggleable__label {background-color: #d4ebff;}#sk-container-id-1 input.sk-hidden--visually {border: 0;clip: rect(1px 1px 1px 1px);clip: rect(1px, 1px, 1px, 1px);height: 1px;margin: -1px;overflow: hidden;padding: 0;position: absolute;width: 1px;}#sk-container-id-1 div.sk-estimator {font-family: monospace;background-color: #f0f8ff;border: 1px dotted black;border-radius: 0.25em;box-sizing: border-box;margin-bottom: 0.5em;}#sk-container-id-1 div.sk-estimator:hover {background-color: #d4ebff;}#sk-container-id-1 div.sk-parallel-item::after {content: \"\";width: 100%;border-bottom: 1px solid gray;flex-grow: 1;}#sk-container-id-1 div.sk-label:hover label.sk-toggleable__label {background-color: #d4ebff;}#sk-container-id-1 div.sk-serial::before {content: \"\";position: absolute;border-left: 1px solid gray;box-sizing: border-box;top: 0;bottom: 0;left: 50%;z-index: 0;}#sk-container-id-1 div.sk-serial {display: flex;flex-direction: column;align-items: center;background-color: white;padding-right: 0.2em;padding-left: 0.2em;position: relative;}#sk-container-id-1 div.sk-item {position: relative;z-index: 1;}#sk-container-id-1 div.sk-parallel {display: flex;align-items: stretch;justify-content: center;background-color: white;position: relative;}#sk-container-id-1 div.sk-item::before, #sk-container-id-1 div.sk-parallel-item::before {content: \"\";position: absolute;border-left: 1px solid gray;box-sizing: border-box;top: 0;bottom: 0;left: 50%;z-index: -1;}#sk-container-id-1 div.sk-parallel-item {display: flex;flex-direction: column;z-index: 1;position: relative;background-color: white;}#sk-container-id-1 div.sk-parallel-item:first-child::after {align-self: flex-end;width: 50%;}#sk-container-id-1 div.sk-parallel-item:last-child::after {align-self: flex-start;width: 50%;}#sk-container-id-1 div.sk-parallel-item:only-child::after {width: 0;}#sk-container-id-1 div.sk-dashed-wrapped {border: 1px dashed gray;margin: 0 0.4em 0.5em 0.4em;box-sizing: border-box;padding-bottom: 0.4em;background-color: white;}#sk-container-id-1 div.sk-label label {font-family: monospace;font-weight: bold;display: inline-block;line-height: 1.2em;}#sk-container-id-1 div.sk-label-container {text-align: center;}#sk-container-id-1 div.sk-container {/* jupyter's `normalize.less` sets `[hidden] { display: none; }` but bootstrap.min.css set `[hidden] { display: none !important; }` so we also need the `!important` here to be able to override the default hidden behavior on the sphinx rendered scikit-learn.org. See: https://github.com/scikit-learn/scikit-learn/issues/21755 */display: inline-block !important;position: relative;}#sk-container-id-1 div.sk-text-repr-fallback {display: none;}</style><div id=\"sk-container-id-1\" class=\"sk-top-container\"><div class=\"sk-text-repr-fallback\"><pre>RandomForestClassifier()</pre><b>In a Jupyter environment, please rerun this cell to show the HTML representation or trust the notebook. <br />On GitHub, the HTML representation is unable to render, please try loading this page with nbviewer.org.</b></div><div class=\"sk-container\" hidden><div class=\"sk-item\"><div class=\"sk-estimator sk-toggleable\"><input class=\"sk-toggleable__control sk-hidden--visually\" id=\"sk-estimator-id-1\" type=\"checkbox\" checked><label for=\"sk-estimator-id-1\" class=\"sk-toggleable__label sk-toggleable__label-arrow\">RandomForestClassifier</label><div class=\"sk-toggleable__content\"><pre>RandomForestClassifier()</pre></div></div></div></div></div>"
      ],
      "text/plain": [
       "RandomForestClassifier()"
      ]
     },
     "execution_count": 64,
     "metadata": {},
     "output_type": "execute_result"
    }
   ],
   "source": [
    "rfc.fit(train_X, train_y)"
   ]
  },
  {
   "cell_type": "code",
   "execution_count": 65,
   "metadata": {},
   "outputs": [],
   "source": [
    "score = np.round(rfc.feature_importances_,3)\n",
    "importances = pd.DataFrame({'feature':train_X.columns,'importance':score})\n",
    "importances = importances.sort_values('importance',ascending=False).set_index('feature')"
   ]
  },
  {
   "cell_type": "code",
   "execution_count": 66,
   "metadata": {},
   "outputs": [
    {
     "data": {
      "text/plain": [
       "<Axes: xlabel='feature'>"
      ]
     },
     "execution_count": 66,
     "metadata": {},
     "output_type": "execute_result"
    },
    {
     "data": {
      "image/png": "[encoded data removed]",
      "text/plain": [
       "<Figure size 1100x400 with 1 Axes>"
      ]
     },
     "metadata": {},
     "output_type": "display_data"
    }
   ],
   "source": [
    "plt.rcParams['figure.figsize'] = (11, 4)\n",
    "importances.plot.bar()"
   ]
  },
  {
   "cell_type": "code",
   "execution_count": 67,
   "metadata": {},
   "outputs": [],
   "source": [
    "rfc = RandomForestClassifier()"
   ]
  },
  {
   "cell_type": "code",
   "execution_count": 68,
   "metadata": {},
   "outputs": [],
   "source": [
    "rfe = RFE(rfc, n_features_to_select=20)\n",
    "rfe = rfe.fit(train_X, train_y)"
   ]
  },
  {
   "cell_type": "code",
   "execution_count": 69,
   "metadata": {},
   "outputs": [],
   "source": [
    "feature_map = [(i, v) for i, v in itertools.zip_longest(rfe.get_support(), train_X.columns)]"
   ]
  },
  {
   "cell_type": "code",
   "execution_count": 70,
   "metadata": {},
   "outputs": [],
   "source": [
    "selected_features = [v for i, v in feature_map if i==True]"
   ]
  },
  {
   "cell_type": "code",
   "execution_count": 71,
   "metadata": {},
   "outputs": [
    {
     "data": {
      "text/plain": [
       "['Destination Port',\n",
       " 'Flow Duration',\n",
       " 'Total Fwd Packets',\n",
       " 'Total Backward Packets',\n",
       " 'Total Length of Fwd Packets',\n",
       " 'Total Length of Bwd Packets',\n",
       " 'Subflow Fwd Packets',\n",
       " 'Subflow Fwd Bytes',\n",
       " 'Subflow Bwd Packets',\n",
       " 'Subflow Bwd Bytes',\n",
       " 'Init_Win_bytes_backward',\n",
       " 'act_data_pkt_fwd',\n",
       " 'min_seg_size_forward']"
      ]
     },
     "execution_count": 71,
     "metadata": {},
     "output_type": "execute_result"
    }
   ],
   "source": [
    "selected_features"
   ]
  },
  {
   "cell_type": "code",
   "execution_count": 72,
   "metadata": {},
   "outputs": [],
   "source": [
    "a = [i[0] for i in feature_map]\n",
    "train_X = train_X.iloc[:,a]\n",
    "test_X = test_X.iloc[:,a]"
   ]
  },
  {
   "cell_type": "code",
   "execution_count": 73,
   "metadata": {},
   "outputs": [],
   "source": [
    "X_train,X_test,Y_train,Y_test = train_test_split(train_X,train_y,train_size=0.70, random_state=2)"
   ]
  },
  {
   "cell_type": "code",
   "execution_count": 74,
   "metadata": {},
   "outputs": [],
   "source": [
    "KNN_Classifier = KNeighborsClassifier(n_jobs=-1)\n",
    "KNN_Classifier.fit(X_train, Y_train); "
   ]
  },
  {
   "cell_type": "code",
   "execution_count": 75,
   "metadata": {},
   "outputs": [],
   "source": [
    "LGR_Classifier = LogisticRegression(n_jobs=-1, random_state=0)\n",
    "LGR_Classifier.fit(X_train, Y_train);"
   ]
  },
  {
   "cell_type": "code",
   "execution_count": 76,
   "metadata": {},
   "outputs": [
    {
     "data": {
      "text/html": [
       "<style>#sk-container-id-2 {color: black;background-color: white;}#sk-container-id-2 pre{padding: 0;}#sk-container-id-2 div.sk-toggleable {background-color: white;}#sk-container-id-2 label.sk-toggleable__label {cursor: pointer;display: block;width: 100%;margin-bottom: 0;padding: 0.3em;box-sizing: border-box;text-align: center;}#sk-container-id-2 label.sk-toggleable__label-arrow:before {content: \"▸\";float: left;margin-right: 0.25em;color: #696969;}#sk-container-id-2 label.sk-toggleable__label-arrow:hover:before {color: black;}#sk-container-id-2 div.sk-estimator:hover label.sk-toggleable__label-arrow:before {color: black;}#sk-container-id-2 div.sk-toggleable__content {max-height: 0;max-width: 0;overflow: hidden;text-align: left;background-color: #f0f8ff;}#sk-container-id-2 div.sk-toggleable__content pre {margin: 0.2em;color: black;border-radius: 0.25em;background-color: #f0f8ff;}#sk-container-id-2 input.sk-toggleable__control:checked~div.sk-toggleable__content {max-height: 200px;max-width: 100%;overflow: auto;}#sk-container-id-2 input.sk-toggleable__control:checked~label.sk-toggleable__label-arrow:before {content: \"▾\";}#sk-container-id-2 div.sk-estimator input.sk-toggleable__control:checked~label.sk-toggleable__label {background-color: #d4ebff;}#sk-container-id-2 div.sk-label input.sk-toggleable__control:checked~label.sk-toggleable__label {background-color: #d4ebff;}#sk-container-id-2 input.sk-hidden--visually {border: 0;clip: rect(1px 1px 1px 1px);clip: rect(1px, 1px, 1px, 1px);height: 1px;margin: -1px;overflow: hidden;padding: 0;position: absolute;width: 1px;}#sk-container-id-2 div.sk-estimator {font-family: monospace;background-color: #f0f8ff;border: 1px dotted black;border-radius: 0.25em;box-sizing: border-box;margin-bottom: 0.5em;}#sk-container-id-2 div.sk-estimator:hover {background-color: #d4ebff;}#sk-container-id-2 div.sk-parallel-item::after {content: \"\";width: 100%;border-bottom: 1px solid gray;flex-grow: 1;}#sk-container-id-2 div.sk-label:hover label.sk-toggleable__label {background-color: #d4ebff;}#sk-container-id-2 div.sk-serial::before {content: \"\";position: absolute;border-left: 1px solid gray;box-sizing: border-box;top: 0;bottom: 0;left: 50%;z-index: 0;}#sk-container-id-2 div.sk-serial {display: flex;flex-direction: column;align-items: center;background-color: white;padding-right: 0.2em;padding-left: 0.2em;position: relative;}#sk-container-id-2 div.sk-item {position: relative;z-index: 1;}#sk-container-id-2 div.sk-parallel {display: flex;align-items: stretch;justify-content: center;background-color: white;position: relative;}#sk-container-id-2 div.sk-item::before, #sk-container-id-2 div.sk-parallel-item::before {content: \"\";position: absolute;border-left: 1px solid gray;box-sizing: border-box;top: 0;bottom: 0;left: 50%;z-index: -1;}#sk-container-id-2 div.sk-parallel-item {display: flex;flex-direction: column;z-index: 1;position: relative;background-color: white;}#sk-container-id-2 div.sk-parallel-item:first-child::after {align-self: flex-end;width: 50%;}#sk-container-id-2 div.sk-parallel-item:last-child::after {align-self: flex-start;width: 50%;}#sk-container-id-2 div.sk-parallel-item:only-child::after {width: 0;}#sk-container-id-2 div.sk-dashed-wrapped {border: 1px dashed gray;margin: 0 0.4em 0.5em 0.4em;box-sizing: border-box;padding-bottom: 0.4em;background-color: white;}#sk-container-id-2 div.sk-label label {font-family: monospace;font-weight: bold;display: inline-block;line-height: 1.2em;}#sk-container-id-2 div.sk-label-container {text-align: center;}#sk-container-id-2 div.sk-container {/* jupyter's `normalize.less` sets `[hidden] { display: none; }` but bootstrap.min.css set `[hidden] { display: none !important; }` so we also need the `!important` here to be able to override the default hidden behavior on the sphinx rendered scikit-learn.org. See: https://github.com/scikit-learn/scikit-learn/issues/21755 */display: inline-block !important;position: relative;}#sk-container-id-2 div.sk-text-repr-fallback {display: none;}</style><div id=\"sk-container-id-2\" class=\"sk-top-container\"><div class=\"sk-text-repr-fallback\"><pre>BernoulliNB()</pre><b>In a Jupyter environment, please rerun this cell to show the HTML representation or trust the notebook. <br />On GitHub, the HTML representation is unable to render, please try loading this page with nbviewer.org.</b></div><div class=\"sk-container\" hidden><div class=\"sk-item\"><div class=\"sk-estimator sk-toggleable\"><input class=\"sk-toggleable__control sk-hidden--visually\" id=\"sk-estimator-id-2\" type=\"checkbox\" checked><label for=\"sk-estimator-id-2\" class=\"sk-toggleable__label sk-toggleable__label-arrow\">BernoulliNB</label><div class=\"sk-toggleable__content\"><pre>BernoulliNB()</pre></div></div></div></div></div>"
      ],
      "text/plain": [
       "BernoulliNB()"
      ]
     },
     "execution_count": 76,
     "metadata": {},
     "output_type": "execute_result"
    }
   ],
   "source": [
    "BNB_Classifier = BernoulliNB()\n",
    "BNB_Classifier.fit(X_train, Y_train)"
   ]
  },
  {
   "cell_type": "code",
   "execution_count": 77,
   "metadata": {},
   "outputs": [
    {
     "data": {
      "text/html": [
       "<style>#sk-container-id-3 {color: black;background-color: white;}#sk-container-id-3 pre{padding: 0;}#sk-container-id-3 div.sk-toggleable {background-color: white;}#sk-container-id-3 label.sk-toggleable__label {cursor: pointer;display: block;width: 100%;margin-bottom: 0;padding: 0.3em;box-sizing: border-box;text-align: center;}#sk-container-id-3 label.sk-toggleable__label-arrow:before {content: \"▸\";float: left;margin-right: 0.25em;color: #696969;}#sk-container-id-3 label.sk-toggleable__label-arrow:hover:before {color: black;}#sk-container-id-3 div.sk-estimator:hover label.sk-toggleable__label-arrow:before {color: black;}#sk-container-id-3 div.sk-toggleable__content {max-height: 0;max-width: 0;overflow: hidden;text-align: left;background-color: #f0f8ff;}#sk-container-id-3 div.sk-toggleable__content pre {margin: 0.2em;color: black;border-radius: 0.25em;background-color: #f0f8ff;}#sk-container-id-3 input.sk-toggleable__control:checked~div.sk-toggleable__content {max-height: 200px;max-width: 100%;overflow: auto;}#sk-container-id-3 input.sk-toggleable__control:checked~label.sk-toggleable__label-arrow:before {content: \"▾\";}#sk-container-id-3 div.sk-estimator input.sk-toggleable__control:checked~label.sk-toggleable__label {background-color: #d4ebff;}#sk-container-id-3 div.sk-label input.sk-toggleable__control:checked~label.sk-toggleable__label {background-color: #d4ebff;}#sk-container-id-3 input.sk-hidden--visually {border: 0;clip: rect(1px 1px 1px 1px);clip: rect(1px, 1px, 1px, 1px);height: 1px;margin: -1px;overflow: hidden;padding: 0;position: absolute;width: 1px;}#sk-container-id-3 div.sk-estimator {font-family: monospace;background-color: #f0f8ff;border: 1px dotted black;border-radius: 0.25em;box-sizing: border-box;margin-bottom: 0.5em;}#sk-container-id-3 div.sk-estimator:hover {background-color: #d4ebff;}#sk-container-id-3 div.sk-parallel-item::after {content: \"\";width: 100%;border-bottom: 1px solid gray;flex-grow: 1;}#sk-container-id-3 div.sk-label:hover label.sk-toggleable__label {background-color: #d4ebff;}#sk-container-id-3 div.sk-serial::before {content: \"\";position: absolute;border-left: 1px solid gray;box-sizing: border-box;top: 0;bottom: 0;left: 50%;z-index: 0;}#sk-container-id-3 div.sk-serial {display: flex;flex-direction: column;align-items: center;background-color: white;padding-right: 0.2em;padding-left: 0.2em;position: relative;}#sk-container-id-3 div.sk-item {position: relative;z-index: 1;}#sk-container-id-3 div.sk-parallel {display: flex;align-items: stretch;justify-content: center;background-color: white;position: relative;}#sk-container-id-3 div.sk-item::before, #sk-container-id-3 div.sk-parallel-item::before {content: \"\";position: absolute;border-left: 1px solid gray;box-sizing: border-box;top: 0;bottom: 0;left: 50%;z-index: -1;}#sk-container-id-3 div.sk-parallel-item {display: flex;flex-direction: column;z-index: 1;position: relative;background-color: white;}#sk-container-id-3 div.sk-parallel-item:first-child::after {align-self: flex-end;width: 50%;}#sk-container-id-3 div.sk-parallel-item:last-child::after {align-self: flex-start;width: 50%;}#sk-container-id-3 div.sk-parallel-item:only-child::after {width: 0;}#sk-container-id-3 div.sk-dashed-wrapped {border: 1px dashed gray;margin: 0 0.4em 0.5em 0.4em;box-sizing: border-box;padding-bottom: 0.4em;background-color: white;}#sk-container-id-3 div.sk-label label {font-family: monospace;font-weight: bold;display: inline-block;line-height: 1.2em;}#sk-container-id-3 div.sk-label-container {text-align: center;}#sk-container-id-3 div.sk-container {/* jupyter's `normalize.less` sets `[hidden] { display: none; }` but bootstrap.min.css set `[hidden] { display: none !important; }` so we also need the `!important` here to be able to override the default hidden behavior on the sphinx rendered scikit-learn.org. See: https://github.com/scikit-learn/scikit-learn/issues/21755 */display: inline-block !important;position: relative;}#sk-container-id-3 div.sk-text-repr-fallback {display: none;}</style><div id=\"sk-container-id-3\" class=\"sk-top-container\"><div class=\"sk-text-repr-fallback\"><pre>DecisionTreeClassifier(criterion=&#x27;entropy&#x27;, random_state=0)</pre><b>In a Jupyter environment, please rerun this cell to show the HTML representation or trust the notebook. <br />On GitHub, the HTML representation is unable to render, please try loading this page with nbviewer.org.</b></div><div class=\"sk-container\" hidden><div class=\"sk-item\"><div class=\"sk-estimator sk-toggleable\"><input class=\"sk-toggleable__control sk-hidden--visually\" id=\"sk-estimator-id-3\" type=\"checkbox\" checked><label for=\"sk-estimator-id-3\" class=\"sk-toggleable__label sk-toggleable__label-arrow\">DecisionTreeClassifier</label><div class=\"sk-toggleable__content\"><pre>DecisionTreeClassifier(criterion=&#x27;entropy&#x27;, random_state=0)</pre></div></div></div></div></div>"
      ],
      "text/plain": [
       "DecisionTreeClassifier(criterion='entropy', random_state=0)"
      ]
     },
     "execution_count": 77,
     "metadata": {},
     "output_type": "execute_result"
    }
   ],
   "source": [
    "DTC_Classifier = tree.DecisionTreeClassifier(criterion='entropy', random_state=0)\n",
    "DTC_Classifier.fit(X_train, Y_train)"
   ]
  },
  {
   "cell_type": "code",
   "execution_count": 78,
   "metadata": {},
   "outputs": [],
   "source": [
    "models = []\n",
    "models.append(('Naive Baye Classifier', BNB_Classifier))\n",
    "models.append(('Decision Tree Classifier', DTC_Classifier))\n",
    "models.append(('KNeighborsClassifier', KNN_Classifier))\n",
    "models.append(('LogisticRegression', LGR_Classifier))"
   ]
  },
  {
   "cell_type": "code",
   "execution_count": 79,
   "metadata": {},
   "outputs": [
    {
     "name": "stderr",
     "output_type": "stream",
     "text": [
      "2024-04-16 18:07:21,952 [6244] WARNING  py.warnings:109: [JupyterRequire] D:\\ProgramData\\anaconda3\\lib\\site-packages\\sklearn\\metrics\\_classification.py:1344: UndefinedMetricWarning: Precision and F-score are ill-defined and being set to 0.0 in labels with no predicted samples. Use `zero_division` parameter to control this behavior.\n",
      "  _warn_prf(average, modifier, msg_start, len(result))\n",
      "\n",
      "2024-04-16 18:07:22,001 [6244] WARNING  py.warnings:109: [JupyterRequire] D:\\ProgramData\\anaconda3\\lib\\site-packages\\sklearn\\metrics\\_classification.py:1344: UndefinedMetricWarning: Precision and F-score are ill-defined and being set to 0.0 in labels with no predicted samples. Use `zero_division` parameter to control this behavior.\n",
      "  _warn_prf(average, modifier, msg_start, len(result))\n",
      "\n",
      "2024-04-16 18:07:22,024 [6244] WARNING  py.warnings:109: [JupyterRequire] D:\\ProgramData\\anaconda3\\lib\\site-packages\\sklearn\\metrics\\_classification.py:1344: UndefinedMetricWarning: Precision and F-score are ill-defined and being set to 0.0 in labels with no predicted samples. Use `zero_division` parameter to control this behavior.\n",
      "  _warn_prf(average, modifier, msg_start, len(result))\n",
      "\n"
     ]
    },
    {
     "name": "stdout",
     "output_type": "stream",
     "text": [
      "\n",
      "============================== Naive Baye Classifier Model Evaluation ==============================\n",
      "\n",
      "Cross Validation Mean Score:\n",
      " 0.9842189218132289\n",
      "\n",
      "Model Accuracy:\n",
      " 0.9842189194361166\n",
      "\n",
      "Confusion matrix:\n",
      " [[    0  1237]\n",
      " [    0 77148]]\n",
      "\n",
      "Classification report:\n",
      "               precision    recall  f1-score   support\n",
      "\n",
      "         0.0       0.00      0.00      0.00      1237\n",
      "         1.0       0.98      1.00      0.99     77148\n",
      "\n",
      "    accuracy                           0.98     78385\n",
      "   macro avg       0.49      0.50      0.50     78385\n",
      "weighted avg       0.97      0.98      0.98     78385\n",
      "\n",
      "\n",
      "\n",
      "============================== Decision Tree Classifier Model Evaluation ==============================\n",
      "\n",
      "Cross Validation Mean Score:\n",
      " 0.9990687197090748\n",
      "\n",
      "Model Accuracy:\n",
      " 1.0\n",
      "\n",
      "Confusion matrix:\n",
      " [[ 1237     0]\n",
      " [    0 77148]]\n",
      "\n",
      "Classification report:\n",
      "               precision    recall  f1-score   support\n",
      "\n",
      "         0.0       1.00      1.00      1.00      1237\n",
      "         1.0       1.00      1.00      1.00     77148\n",
      "\n",
      "    accuracy                           1.00     78385\n",
      "   macro avg       1.00      1.00      1.00     78385\n",
      "weighted avg       1.00      1.00      1.00     78385\n",
      "\n",
      "\n",
      "\n",
      "============================== KNeighborsClassifier Model Evaluation ==============================\n",
      "\n",
      "Cross Validation Mean Score:\n",
      " 0.9987497819491207\n",
      "\n",
      "Model Accuracy:\n",
      " 0.9991580021687823\n",
      "\n",
      "Confusion matrix:\n",
      " [[ 1188    49]\n",
      " [   17 77131]]\n",
      "\n",
      "Classification report:\n",
      "               precision    recall  f1-score   support\n",
      "\n",
      "         0.0       0.99      0.96      0.97      1237\n",
      "         1.0       1.00      1.00      1.00     77148\n",
      "\n",
      "    accuracy                           1.00     78385\n",
      "   macro avg       0.99      0.98      0.99     78385\n",
      "weighted avg       1.00      1.00      1.00     78385\n",
      "\n",
      "\n"
     ]
    },
    {
     "name": "stderr",
     "output_type": "stream",
     "text": [
      "2024-04-16 18:08:01,913 [6244] WARNING  py.warnings:109: [JupyterRequire] D:\\ProgramData\\anaconda3\\lib\\site-packages\\sklearn\\metrics\\_classification.py:1344: UndefinedMetricWarning: Precision and F-score are ill-defined and being set to 0.0 in labels with no predicted samples. Use `zero_division` parameter to control this behavior.\n",
      "  _warn_prf(average, modifier, msg_start, len(result))\n",
      "\n",
      "2024-04-16 18:08:01,959 [6244] WARNING  py.warnings:109: [JupyterRequire] D:\\ProgramData\\anaconda3\\lib\\site-packages\\sklearn\\metrics\\_classification.py:1344: UndefinedMetricWarning: Precision and F-score are ill-defined and being set to 0.0 in labels with no predicted samples. Use `zero_division` parameter to control this behavior.\n",
      "  _warn_prf(average, modifier, msg_start, len(result))\n",
      "\n",
      "2024-04-16 18:08:01,985 [6244] WARNING  py.warnings:109: [JupyterRequire] D:\\ProgramData\\anaconda3\\lib\\site-packages\\sklearn\\metrics\\_classification.py:1344: UndefinedMetricWarning: Precision and F-score are ill-defined and being set to 0.0 in labels with no predicted samples. Use `zero_division` parameter to control this behavior.\n",
      "  _warn_prf(average, modifier, msg_start, len(result))\n",
      "\n"
     ]
    },
    {
     "name": "stdout",
     "output_type": "stream",
     "text": [
      "\n",
      "============================== LogisticRegression Model Evaluation ==============================\n",
      "\n",
      "Cross Validation Mean Score:\n",
      " 0.9842189218132289\n",
      "\n",
      "Model Accuracy:\n",
      " 0.9842189194361166\n",
      "\n",
      "Confusion matrix:\n",
      " [[    0  1237]\n",
      " [    0 77148]]\n",
      "\n",
      "Classification report:\n",
      "               precision    recall  f1-score   support\n",
      "\n",
      "         0.0       0.00      0.00      0.00      1237\n",
      "         1.0       0.98      1.00      0.99     77148\n",
      "\n",
      "    accuracy                           0.98     78385\n",
      "   macro avg       0.49      0.50      0.50     78385\n",
      "weighted avg       0.97      0.98      0.98     78385\n",
      "\n",
      "\n"
     ]
    }
   ],
   "source": [
    "for i, v in models:\n",
    "    scores = cross_val_score(v, X_train, Y_train, cv=10)\n",
    "    accuracy = metrics.accuracy_score(Y_train, v.predict(X_train))\n",
    "    confusion_matrix = metrics.confusion_matrix(Y_train, v.predict(X_train))\n",
    "    classification = metrics.classification_report(Y_train, v.predict(X_train))\n",
    "    print()\n",
    "    print('============================== {} Model Evaluation =============================='.format(i))\n",
    "    print()\n",
    "    print (\"Cross Validation Mean Score:\" \"\\n\", scores.mean())\n",
    "    print()\n",
    "    print (\"Model Accuracy:\" \"\\n\", accuracy)\n",
    "    print()\n",
    "    print(\"Confusion matrix:\" \"\\n\", confusion_matrix)\n",
    "    print()\n",
    "    print(\"Classification report:\" \"\\n\", classification) \n",
    "    print()"
   ]
  },
  {
   "cell_type": "code",
   "execution_count": 80,
   "metadata": {},
   "outputs": [
    {
     "name": "stderr",
     "output_type": "stream",
     "text": [
      "2024-04-16 18:08:02,056 [6244] WARNING  py.warnings:109: [JupyterRequire] D:\\ProgramData\\anaconda3\\lib\\site-packages\\sklearn\\metrics\\_classification.py:1344: UndefinedMetricWarning: Precision and F-score are ill-defined and being set to 0.0 in labels with no predicted samples. Use `zero_division` parameter to control this behavior.\n",
      "  _warn_prf(average, modifier, msg_start, len(result))\n",
      "\n",
      "2024-04-16 18:08:02,078 [6244] WARNING  py.warnings:109: [JupyterRequire] D:\\ProgramData\\anaconda3\\lib\\site-packages\\sklearn\\metrics\\_classification.py:1344: UndefinedMetricWarning: Precision and F-score are ill-defined and being set to 0.0 in labels with no predicted samples. Use `zero_division` parameter to control this behavior.\n",
      "  _warn_prf(average, modifier, msg_start, len(result))\n",
      "\n",
      "2024-04-16 18:08:02,090 [6244] WARNING  py.warnings:109: [JupyterRequire] D:\\ProgramData\\anaconda3\\lib\\site-packages\\sklearn\\metrics\\_classification.py:1344: UndefinedMetricWarning: Precision and F-score are ill-defined and being set to 0.0 in labels with no predicted samples. Use `zero_division` parameter to control this behavior.\n",
      "  _warn_prf(average, modifier, msg_start, len(result))\n",
      "\n"
     ]
    },
    {
     "name": "stdout",
     "output_type": "stream",
     "text": [
      "\n",
      "============================== Naive Baye Classifier Model Test Results ==============================\n",
      "\n",
      "Model Accuracy:\n",
      " 0.9836577960350062\n",
      "\n",
      "Confusion matrix:\n",
      " [[    0   549]\n",
      " [    0 33045]]\n",
      "\n",
      "Classification report:\n",
      "               precision    recall  f1-score   support\n",
      "\n",
      "         0.0       0.00      0.00      0.00       549\n",
      "         1.0       0.98      1.00      0.99     33045\n",
      "\n",
      "    accuracy                           0.98     33594\n",
      "   macro avg       0.49      0.50      0.50     33594\n",
      "weighted avg       0.97      0.98      0.98     33594\n",
      "\n",
      "\n",
      "\n",
      "============================== Decision Tree Classifier Model Test Results ==============================\n",
      "\n",
      "Model Accuracy:\n",
      " 0.999226052271239\n",
      "\n",
      "Confusion matrix:\n",
      " [[  537    12]\n",
      " [   14 33031]]\n",
      "\n",
      "Classification report:\n",
      "               precision    recall  f1-score   support\n",
      "\n",
      "         0.0       0.97      0.98      0.98       549\n",
      "         1.0       1.00      1.00      1.00     33045\n",
      "\n",
      "    accuracy                           1.00     33594\n",
      "   macro avg       0.99      0.99      0.99     33594\n",
      "weighted avg       1.00      1.00      1.00     33594\n",
      "\n",
      "\n"
     ]
    },
    {
     "name": "stderr",
     "output_type": "stream",
     "text": [
      "2024-04-16 18:08:10,072 [6244] WARNING  py.warnings:109: [JupyterRequire] D:\\ProgramData\\anaconda3\\lib\\site-packages\\sklearn\\metrics\\_classification.py:1344: UndefinedMetricWarning: Precision and F-score are ill-defined and being set to 0.0 in labels with no predicted samples. Use `zero_division` parameter to control this behavior.\n",
      "  _warn_prf(average, modifier, msg_start, len(result))\n",
      "\n",
      "2024-04-16 18:08:10,094 [6244] WARNING  py.warnings:109: [JupyterRequire] D:\\ProgramData\\anaconda3\\lib\\site-packages\\sklearn\\metrics\\_classification.py:1344: UndefinedMetricWarning: Precision and F-score are ill-defined and being set to 0.0 in labels with no predicted samples. Use `zero_division` parameter to control this behavior.\n",
      "  _warn_prf(average, modifier, msg_start, len(result))\n",
      "\n",
      "2024-04-16 18:08:10,105 [6244] WARNING  py.warnings:109: [JupyterRequire] D:\\ProgramData\\anaconda3\\lib\\site-packages\\sklearn\\metrics\\_classification.py:1344: UndefinedMetricWarning: Precision and F-score are ill-defined and being set to 0.0 in labels with no predicted samples. Use `zero_division` parameter to control this behavior.\n",
      "  _warn_prf(average, modifier, msg_start, len(result))\n",
      "\n"
     ]
    },
    {
     "name": "stdout",
     "output_type": "stream",
     "text": [
      "\n",
      "============================== KNeighborsClassifier Model Test Results ==============================\n",
      "\n",
      "Model Accuracy:\n",
      " 0.9990176817288802\n",
      "\n",
      "Confusion matrix:\n",
      " [[  531    18]\n",
      " [   15 33030]]\n",
      "\n",
      "Classification report:\n",
      "               precision    recall  f1-score   support\n",
      "\n",
      "         0.0       0.97      0.97      0.97       549\n",
      "         1.0       1.00      1.00      1.00     33045\n",
      "\n",
      "    accuracy                           1.00     33594\n",
      "   macro avg       0.99      0.98      0.98     33594\n",
      "weighted avg       1.00      1.00      1.00     33594\n",
      "\n",
      "\n",
      "\n",
      "============================== LogisticRegression Model Test Results ==============================\n",
      "\n",
      "Model Accuracy:\n",
      " 0.9836577960350062\n",
      "\n",
      "Confusion matrix:\n",
      " [[    0   549]\n",
      " [    0 33045]]\n",
      "\n",
      "Classification report:\n",
      "               precision    recall  f1-score   support\n",
      "\n",
      "         0.0       0.00      0.00      0.00       549\n",
      "         1.0       0.98      1.00      0.99     33045\n",
      "\n",
      "    accuracy                           0.98     33594\n",
      "   macro avg       0.49      0.50      0.50     33594\n",
      "weighted avg       0.97      0.98      0.98     33594\n",
      "\n",
      "\n"
     ]
    }
   ],
   "source": [
    "for i, v in models:\n",
    "    accuracy = metrics.accuracy_score(Y_test, v.predict(X_test))\n",
    "    confusion_matrix = metrics.confusion_matrix(Y_test, v.predict(X_test))\n",
    "    classification = metrics.classification_report(Y_test, v.predict(X_test))\n",
    "    print()\n",
    "    print('============================== {} Model Test Results =============================='.format(i))\n",
    "    print()\n",
    "    print (\"Model Accuracy:\" \"\\n\", accuracy)\n",
    "    print()\n",
    "    print(\"Confusion matrix:\" \"\\n\", confusion_matrix)\n",
    "    print()\n",
    "    print(\"Classification report:\" \"\\n\", classification) \n",
    "    print()        "
   ]
  },
  {
   "cell_type": "code",
   "execution_count": 81,
   "metadata": {},
   "outputs": [],
   "source": [
    "def getModel():\n",
    "    inp = Input(shape=(X_train.shape[1],))\n",
    "    d1=Dropout(0.3)(inp)\n",
    "    encoded = Dense(8, activation='relu', activity_regularizer=regularizers.l1(10e-5))(d1)\n",
    "    decoded = Dense(X_train.shape[1], activation='relu')(encoded)\n",
    "    autoencoder = Model(inp, decoded)\n",
    "    autoencoder.compile(optimizer='adam', loss='sparse_categorical_crossentropy', metrics = ['accuracy'])\n",
    "    return autoencoder"
   ]
  },
  {
   "cell_type": "code",
   "execution_count": 82,
   "metadata": {},
   "outputs": [],
   "source": [
    "autoencoder=getModel()"
   ]
  },
  {
   "cell_type": "code",
   "execution_count": 83,
   "metadata": {},
   "outputs": [],
   "source": [
    "callback = tf.keras.callbacks.EarlyStopping(monitor='loss', patience=3)"
   ]
  },
  {
   "cell_type": "code",
   "execution_count": 84,
   "metadata": {},
   "outputs": [
    {
     "name": "stdout",
     "output_type": "stream",
     "text": [
      "Epoch 1/32\n",
      "471/471 [==============================] - 2s 3ms/step - loss: 1.1062 - accuracy: 0.8359 - val_loss: 0.2257 - val_accuracy: 0.9841\n",
      "Epoch 2/32\n",
      "471/471 [==============================] - 0s 1ms/step - loss: 0.1575 - accuracy: 0.9826 - val_loss: 0.2244 - val_accuracy: 0.9843\n",
      "Epoch 3/32\n",
      "471/471 [==============================] - 0s 1ms/step - loss: 0.1486 - accuracy: 0.9828 - val_loss: 0.2233 - val_accuracy: 0.9844\n",
      "Epoch 4/32\n",
      "471/471 [==============================] - 0s 1ms/step - loss: 0.1488 - accuracy: 0.9828 - val_loss: 0.1407 - val_accuracy: 0.9846\n",
      "Epoch 5/32\n",
      "471/471 [==============================] - 0s 1ms/step - loss: 0.1662 - accuracy: 0.9832 - val_loss: 0.0739 - val_accuracy: 0.9846\n",
      "Epoch 6/32\n",
      "471/471 [==============================] - 0s 1ms/step - loss: 0.1422 - accuracy: 0.9835 - val_loss: 0.1037 - val_accuracy: 0.9844\n",
      "Epoch 7/32\n",
      "471/471 [==============================] - 1s 1ms/step - loss: 0.1194 - accuracy: 0.9836 - val_loss: 0.0880 - val_accuracy: 0.9846\n",
      "Epoch 8/32\n",
      "471/471 [==============================] - 1s 1ms/step - loss: 0.1187 - accuracy: 0.9837 - val_loss: 0.0829 - val_accuracy: 0.9846\n",
      "Epoch 9/32\n",
      "471/471 [==============================] - 0s 1ms/step - loss: 0.1108 - accuracy: 0.9838 - val_loss: 0.1303 - val_accuracy: 0.9847\n",
      "Epoch 10/32\n",
      "471/471 [==============================] - 0s 1ms/step - loss: 0.1091 - accuracy: 0.9838 - val_loss: 0.0841 - val_accuracy: 0.9846\n",
      "Epoch 11/32\n",
      "471/471 [==============================] - 0s 1ms/step - loss: 0.0987 - accuracy: 0.9838 - val_loss: 0.0822 - val_accuracy: 0.9846\n",
      "Epoch 12/32\n",
      "471/471 [==============================] - 0s 1ms/step - loss: 0.0905 - accuracy: 0.9839 - val_loss: 0.0815 - val_accuracy: 0.9846\n",
      "Epoch 13/32\n",
      "471/471 [==============================] - 1s 1ms/step - loss: 0.0887 - accuracy: 0.9838 - val_loss: 0.0781 - val_accuracy: 0.9847\n",
      "Epoch 14/32\n",
      "471/471 [==============================] - 1s 1ms/step - loss: 0.0850 - accuracy: 0.9839 - val_loss: 0.0802 - val_accuracy: 0.9847\n",
      "Epoch 15/32\n",
      "471/471 [==============================] - 0s 1ms/step - loss: 0.0869 - accuracy: 0.9838 - val_loss: 0.0782 - val_accuracy: 0.9847\n",
      "Epoch 16/32\n",
      "471/471 [==============================] - 1s 1ms/step - loss: 0.0832 - accuracy: 0.9839 - val_loss: 0.0827 - val_accuracy: 0.9848\n",
      "Epoch 17/32\n",
      "471/471 [==============================] - 0s 1ms/step - loss: 0.0809 - accuracy: 0.9840 - val_loss: 0.0792 - val_accuracy: 0.9848\n",
      "Epoch 18/32\n",
      "471/471 [==============================] - 0s 1ms/step - loss: 0.0791 - accuracy: 0.9840 - val_loss: 0.0790 - val_accuracy: 0.9848\n",
      "Epoch 19/32\n",
      "471/471 [==============================] - 1s 1ms/step - loss: 0.0801 - accuracy: 0.9840 - val_loss: 0.0806 - val_accuracy: 0.9848\n",
      "Epoch 20/32\n",
      "471/471 [==============================] - 0s 1ms/step - loss: 0.0810 - accuracy: 0.9840 - val_loss: 0.0807 - val_accuracy: 0.9848\n",
      "Epoch 21/32\n",
      "471/471 [==============================] - 1s 1ms/step - loss: 0.0792 - accuracy: 0.9841 - val_loss: 0.0840 - val_accuracy: 0.9848\n"
     ]
    }
   ],
   "source": [
    "history=autoencoder.fit(X_train, Y_train,\n",
    "               epochs=32,\n",
    "                batch_size=150,\n",
    "                shuffle=True,\n",
    "                validation_split=0.1, callbacks=[callback]\n",
    "                       )"
   ]
  },
  {
   "cell_type": "code",
   "execution_count": 85,
   "metadata": {},
   "outputs": [
    {
     "data": {
      "text/plain": [
       "Text(0.5, 0, 'epoch')"
      ]
     },
     "execution_count": 85,
     "metadata": {},
     "output_type": "execute_result"
    },
    {
     "data": {
      "image/png": "[encoded data removed]",
      "text/plain": [
       "<Figure size 1100x400 with 1 Axes>"
      ]
     },
     "metadata": {},
     "output_type": "display_data"
    }
   ],
   "source": [
    "plt.plot(history.history['loss'])\n",
    "plt.plot(history.history['val_loss'])\n",
    "plt.legend(['training','validation'])\n",
    "plt.title('Training and validation loss')\n",
    "plt.xlabel('epoch')"
   ]
  },
  {
   "cell_type": "code",
   "execution_count": 86,
   "metadata": {},
   "outputs": [
    {
     "data": {
      "text/plain": [
       "Text(0.5, 0, 'epoch')"
      ]
     },
     "execution_count": 86,
     "metadata": {},
     "output_type": "execute_result"
    },
    {
     "data": {
      "image/png": "[encoded data removed]",
      "text/plain": [
       "<Figure size 1100x400 with 1 Axes>"
      ]
     },
     "metadata": {},
     "output_type": "display_data"
    }
   ],
   "source": [
    "plt.plot(history.history['accuracy'])\n",
    "plt.plot(history.history['val_accuracy'])\n",
    "plt.legend(['training','validation'])\n",
    "plt.title('Training and validation accuracy')\n",
    "plt.xlabel('epoch')"
   ]
  },
  {
   "cell_type": "code",
   "execution_count": null,
   "metadata": {},
   "outputs": [],
   "source": []
  },
  {
   "cell_type": "code",
   "execution_count": null,
   "metadata": {},
   "outputs": [],
   "source": []
  },
  {
   "cell_type": "code",
   "execution_count": null,
   "metadata": {},
   "outputs": [],
   "source": []
  }
 ],
 "metadata": {
  "kernelspec": {
   "display_name": "Python 3 (ipykernel)",
   "language": "python",
   "name": "python3"
  },
  "language_info": {
   "codemirror_mode": {
    "name": "ipython",
    "version": 3
   },
   "file_extension": ".py",
   "mimetype": "text/x-python",
   "name": "python",
   "nbconvert_exporter": "python",
   "pygments_lexer": "ipython3",
   "version": "3.9.19"
  }
 },
 "nbformat": 4,
 "nbformat_minor": 4
}
